{
 "cells": [
  {
   "cell_type": "code",
   "execution_count": 10,
   "id": "d6ab5582-1172-4f21-b4bc-6d46541e27e0",
   "metadata": {},
   "outputs": [
    {
     "name": "stdout",
     "output_type": "stream",
     "text": [
      "<class 'pandas.core.frame.DataFrame'>\n",
      "RangeIndex: 455440 entries, 0 to 455439\n",
      "Data columns (total 3 columns):\n",
      " #   Column                                                                                           Non-Null Count   Dtype  \n",
      "---  ------                                                                                           --------------   -----  \n",
      " 0   Entity                                                                                           455440 non-null  object \n",
      " 1   Day                                                                                              455440 non-null  object \n",
      " 2   Daily new confirmed cases of COVID-19 per million people (rolling 7-day average, right-aligned)  455440 non-null  float64\n",
      "dtypes: float64(1), object(2)\n",
      "memory usage: 10.4+ MB\n",
      "None\n",
      "Data preprocessing complete. Preprocessed data saved to 'preprocessed_covid.csv'.\n"
     ]
    }
   ],
   "source": [
    "import pandas as pd\n",
    "\n",
    "# Load the dataset\n",
    "data = pd.read_csv('covid.csv')\n",
    "\n",
    "# Display basic information about the dataset\n",
    "print(data.info())\n",
    "\n",
    "# Handle missing values (if any)\n",
    "data.fillna(0, inplace=True)\n",
    "\n",
    "# Convert 'Day' column to datetime format\n",
    "data['Day'] = pd.to_datetime(data['Day'])\n",
    "\n",
    "# Extract year, month, and day for easier analysis\n",
    "data['Year'] = data['Day'].dt.year\n",
    "data['Month'] = data['Day'].dt.month\n",
    "data['Day_Number'] = data['Day'].dt.day\n",
    "\n",
    "# Save the preprocessed data to a new CSV file\n",
    "data.to_csv('preprocessed_covid.csv', index=False)\n",
    "\n",
    "print(\"Data preprocessing complete. Preprocessed data saved to 'preprocessed_covid.csv'.\")"
   ]
  },
  {
   "cell_type": "code",
   "execution_count": null,
   "id": "0046d772-ff68-4462-b6f5-56492da1e3bd",
   "metadata": {},
   "outputs": [],
   "source": []
  },
  {
   "cell_type": "code",
   "execution_count": null,
   "id": "bee4aa2f-af3e-4bdd-82a7-9c884c6fcdae",
   "metadata": {},
   "outputs": [],
   "source": [
    "import pandas as pd\n",
    "import plotly.express as px\n",
    "\n",
    "# Load the preprocessed dataset\n",
    "data = pd.read_csv('preprocessed_covid.csv')"
   ]
  },
  {
   "cell_type": "code",
   "execution_count": 12,
   "id": "a580184d-e977-4c7e-98c4-ffab289fe655",
   "metadata": {},
   "outputs": [
    {
     "data": {
      "text/html": [
       "<div>\n",
       "<style scoped>\n",
       "    .dataframe tbody tr th:only-of-type {\n",
       "        vertical-align: middle;\n",
       "    }\n",
       "\n",
       "    .dataframe tbody tr th {\n",
       "        vertical-align: top;\n",
       "    }\n",
       "\n",
       "    .dataframe thead th {\n",
       "        text-align: right;\n",
       "    }\n",
       "</style>\n",
       "<table border=\"1\" class=\"dataframe\">\n",
       "  <thead>\n",
       "    <tr style=\"text-align: right;\">\n",
       "      <th></th>\n",
       "      <th>Entity</th>\n",
       "      <th>Day</th>\n",
       "      <th>Daily new confirmed cases of COVID-19 per million people (rolling 7-day average, right-aligned)</th>\n",
       "      <th>Year</th>\n",
       "      <th>Month</th>\n",
       "      <th>Day_Number</th>\n",
       "    </tr>\n",
       "  </thead>\n",
       "  <tbody>\n",
       "    <tr>\n",
       "      <th>0</th>\n",
       "      <td>Afghanistan</td>\n",
       "      <td>2020-01-09</td>\n",
       "      <td>0.0</td>\n",
       "      <td>2020</td>\n",
       "      <td>1</td>\n",
       "      <td>9</td>\n",
       "    </tr>\n",
       "    <tr>\n",
       "      <th>1</th>\n",
       "      <td>Afghanistan</td>\n",
       "      <td>2020-01-10</td>\n",
       "      <td>0.0</td>\n",
       "      <td>2020</td>\n",
       "      <td>1</td>\n",
       "      <td>10</td>\n",
       "    </tr>\n",
       "    <tr>\n",
       "      <th>2</th>\n",
       "      <td>Afghanistan</td>\n",
       "      <td>2020-01-11</td>\n",
       "      <td>0.0</td>\n",
       "      <td>2020</td>\n",
       "      <td>1</td>\n",
       "      <td>11</td>\n",
       "    </tr>\n",
       "    <tr>\n",
       "      <th>3</th>\n",
       "      <td>Afghanistan</td>\n",
       "      <td>2020-01-12</td>\n",
       "      <td>0.0</td>\n",
       "      <td>2020</td>\n",
       "      <td>1</td>\n",
       "      <td>12</td>\n",
       "    </tr>\n",
       "    <tr>\n",
       "      <th>4</th>\n",
       "      <td>Afghanistan</td>\n",
       "      <td>2020-01-13</td>\n",
       "      <td>0.0</td>\n",
       "      <td>2020</td>\n",
       "      <td>1</td>\n",
       "      <td>13</td>\n",
       "    </tr>\n",
       "  </tbody>\n",
       "</table>\n",
       "</div>"
      ],
      "text/plain": [
       "        Entity         Day  \\\n",
       "0  Afghanistan  2020-01-09   \n",
       "1  Afghanistan  2020-01-10   \n",
       "2  Afghanistan  2020-01-11   \n",
       "3  Afghanistan  2020-01-12   \n",
       "4  Afghanistan  2020-01-13   \n",
       "\n",
       "   Daily new confirmed cases of COVID-19 per million people (rolling 7-day average, right-aligned)  \\\n",
       "0                                                0.0                                                 \n",
       "1                                                0.0                                                 \n",
       "2                                                0.0                                                 \n",
       "3                                                0.0                                                 \n",
       "4                                                0.0                                                 \n",
       "\n",
       "   Year  Month  Day_Number  \n",
       "0  2020      1           9  \n",
       "1  2020      1          10  \n",
       "2  2020      1          11  \n",
       "3  2020      1          12  \n",
       "4  2020      1          13  "
      ]
     },
     "execution_count": 12,
     "metadata": {},
     "output_type": "execute_result"
    }
   ],
   "source": [
    "data.head()"
   ]
  },
  {
   "cell_type": "code",
   "execution_count": 14,
   "id": "b6059b3e-93bb-47ac-89ee-5b72bdfa97c4",
   "metadata": {},
   "outputs": [
    {
     "name": "stdout",
     "output_type": "stream",
     "text": [
      "Original Column Names:\n",
      "Index(['Entity', 'Day',\n",
      "       'Daily new confirmed cases of COVID-19 per million people (rolling 7-day average, right-aligned)',\n",
      "       'Year', 'Month', 'Day_Number'],\n",
      "      dtype='object')\n",
      "New Column Names:\n",
      "Index(['Country', 'Date', 'Daily New Cases per Million', 'Year', 'Month',\n",
      "       'Day_Number'],\n",
      "      dtype='object')\n",
      "Column renaming complete. Data saved to 'renamed_preprocessed_covid.csv'.\n"
     ]
    }
   ],
   "source": [
    "import pandas as pd\n",
    "\n",
    "# Load the preprocessed dataset\n",
    "data = pd.read_csv('preprocessed_covid.csv')\n",
    "\n",
    "# Display the original column names\n",
    "print(\"Original Column Names:\")\n",
    "print(data.columns)\n",
    "\n",
    "# Rename the columns for better readability\n",
    "data.rename(columns={\n",
    "    'Entity': 'Country',\n",
    "    'Day': 'Date',\n",
    "    'Daily new confirmed cases of COVID-19 per million people (rolling 7-day average, right-aligned)': 'Daily New Cases per Million'\n",
    "}, inplace=True)\n",
    "\n",
    "# Display the new column names\n",
    "print(\"New Column Names:\")\n",
    "print(data.columns)\n",
    "\n",
    "# Save the data with the new column names\n",
    "data.to_csv('renamed_preprocessed_covid.csv', index=False)\n",
    "\n",
    "print(\"Column renaming complete. Data saved to 'renamed_preprocessed_covid.csv'.\")"
   ]
  },
  {
   "cell_type": "code",
   "execution_count": 15,
   "id": "a00c8f98-14f8-4f0a-a908-eef3945db4f3",
   "metadata": {},
   "outputs": [],
   "source": [
    "import pandas as pd\n",
    "\n",
    "# Load the preprocessed dataset\n",
    "data = pd.read_csv('renamed_preprocessed_covid.csv')"
   ]
  },
  {
   "cell_type": "code",
   "execution_count": 18,
   "id": "9e24eab1-a14e-4fc7-bf30-4d4128cf0b1b",
   "metadata": {},
   "outputs": [
    {
     "name": "stderr",
     "output_type": "stream",
     "text": [
      "/tmp/ipykernel_88160/3350898052.py:11: SettingWithCopyWarning:\n",
      "\n",
      "\n",
      "A value is trying to be set on a copy of a slice from a DataFrame.\n",
      "Try using .loc[row_indexer,col_indexer] = value instead\n",
      "\n",
      "See the caveats in the documentation: https://pandas.pydata.org/pandas-docs/stable/user_guide/indexing.html#returning-a-view-versus-a-copy\n",
      "\n"
     ]
    },
    {
     "data": {
      "image/png": "[encoded data removed]",
      "text/plain": [
       "<Figure size 1000x600 with 1 Axes>"
      ]
     },
     "metadata": {},
     "output_type": "display_data"
    }
   ],
   "source": [
    "import pandas as pd\n",
    "import matplotlib.pyplot as plt\n",
    "\n",
    "# Load the preprocessed dataset with renamed columns\n",
    "data = pd.read_csv('renamed_preprocessed_covid.csv')\n",
    "\n",
    "# Filter data for a specific country (e.g., Afghanistan)\n",
    "country_data = data[data['Country'] == 'Afghanistan']\n",
    "\n",
    "# Convert 'Date' column to datetime format\n",
    "country_data['Date'] = pd.to_datetime(country_data['Date'])\n",
    "\n",
    "# Plot the data\n",
    "plt.figure(figsize=(10, 6))\n",
    "plt.plot(country_data['Date'], country_data['Daily New Cases per Million'], marker='o', linestyle='-')\n",
    "\n",
    "# Set the title and labels\n",
    "plt.title('Daily New Confirmed Cases of COVID-19 per Million People in Afghanistan')\n",
    "plt.xlabel('Date')\n",
    "plt.ylabel('Daily New Cases per Million')\n",
    "plt.grid(True)\n",
    "\n",
    "# Show the plot\n",
    "plt.tight_layout()\n",
    "plt.savefig('covid_afghanistan.png')  # Save the plot as a PNG file\n",
    "plt.show()"
   ]
  },
  {
   "cell_type": "code",
   "execution_count": 19,
   "id": "62c49360-1ee9-4385-8557-694e100a7f1d",
   "metadata": {},
   "outputs": [
    {
     "data": {
      "text/html": [
       "\n",
       "        <iframe\n",
       "            width=\"100%\"\n",
       "            height=\"650\"\n",
       "            src=\"http://127.0.0.1:8050/\"\n",
       "            frameborder=\"0\"\n",
       "            allowfullscreen\n",
       "            \n",
       "        ></iframe>\n",
       "        "
      ],
      "text/plain": [
       "<IPython.lib.display.IFrame at 0x7a3b163b2510>"
      ]
     },
     "metadata": {},
     "output_type": "display_data"
    }
   ],
   "source": [
    "import pandas as pd\n",
    "import plotly.express as px\n",
    "from dash import Dash, dcc, html, Input, Output\n",
    "\n",
    "# Load the preprocessed dataset with renamed columns\n",
    "data = pd.read_csv('renamed_preprocessed_covid.csv')\n",
    "\n",
    "# Create a list of unique countries\n",
    "countries = data['Country'].unique()\n",
    "\n",
    "# Initialize the Dash app\n",
    "app = Dash(__name__)\n",
    "\n",
    "# Define the layout of the app\n",
    "app.layout = html.Div([\n",
    "    html.H1(\"COVID-19 Data Visualization\"),\n",
    "    html.Label(\"Select a Country:\"),\n",
    "    dcc.Dropdown(\n",
    "        id='country-dropdown',\n",
    "        options=[{'label': country, 'value': country} for country in countries],\n",
    "        value='Afghanistan'  # Default value\n",
    "    ),\n",
    "    dcc.Graph(id='covid-graph')\n",
    "])\n",
    "\n",
    "# Define the callback to update the graph based on the selected country\n",
    "@app.callback(\n",
    "    Output('covid-graph', 'figure'),\n",
    "    [Input('country-dropdown', 'value')]\n",
    ")\n",
    "def update_graph(selected_country):\n",
    "    # Filter data for the selected country\n",
    "    country_data = data[data['Country'] == selected_country]\n",
    "    \n",
    "    # Create the plot\n",
    "    fig = px.line(country_data, x='Date', y='Daily New Cases per Million',\n",
    "                  title=f'Daily New Confirmed Cases of COVID-19 per Million People in {selected_country}',\n",
    "                  labels={'Date': 'Date', 'Daily New Cases per Million': 'Daily New Cases per Million'})\n",
    "    \n",
    "    return fig\n",
    "\n",
    "# Run the app\n",
    "if __name__ == '__main__':\n",
    "    app.run_server(debug=True)"
   ]
  },
  {
   "cell_type": "code",
   "execution_count": null,
   "id": "38ae6806-dc16-49c1-853d-da90399de395",
   "metadata": {},
   "outputs": [],
   "source": []
  }
 ],
 "metadata": {
  "kernelspec": {
   "display_name": "Python 3 (ipykernel)",
   "language": "python",
   "name": "python3"
  },
  "language_info": {
   "codemirror_mode": {
    "name": "ipython",
    "version": 3
   },
   "file_extension": ".py",
   "mimetype": "text/x-python",
   "name": "python",
   "nbconvert_exporter": "python",
   "pygments_lexer": "ipython3",
   "version": "3.11.10"
  }
 },
 "nbformat": 4,
 "nbformat_minor": 5
}
